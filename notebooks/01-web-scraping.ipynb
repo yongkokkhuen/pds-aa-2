{
 "cells": [
  {
   "cell_type": "markdown",
   "source": [
    "## Imports"
   ],
   "metadata": {
    "collapsed": false
   }
  },
  {
   "cell_type": "code",
   "execution_count": 17,
   "metadata": {
    "collapsed": true
   },
   "outputs": [],
   "source": [
    "import time\n",
    "import pandas as pd\n",
    "from selenium import webdriver\n",
    "from bs4 import BeautifulSoup"
   ]
  },
  {
   "cell_type": "markdown",
   "source": [
    "## Driver"
   ],
   "metadata": {
    "collapsed": false
   }
  },
  {
   "cell_type": "code",
   "execution_count": 18,
   "outputs": [],
   "source": [
    "driver = webdriver.Chrome(executable_path=\"chromedriver\")"
   ],
   "metadata": {
    "collapsed": false,
    "pycharm": {
     "name": "#%%\n"
    }
   }
  },
  {
   "cell_type": "markdown",
   "source": [
    "## Web Scraping - Twitter Search"
   ],
   "metadata": {
    "collapsed": false
   }
  },
  {
   "cell_type": "code",
   "execution_count": 19,
   "outputs": [],
   "source": [
    "def get_tweets():\n",
    "    tweets = []\n",
    "\n",
    "    page_source = driver.page_source\n",
    "    soup = BeautifulSoup(page_source, \"lxml\")\n",
    "\n",
    "    articles = soup.find_all(\"article\")\n",
    "\n",
    "    for article in articles:\n",
    "        div = article.find_next(\"div\", {\"lang\": \"en\"})\n",
    "        if div is not None:\n",
    "            tweets.append(div.getText())\n",
    "\n",
    "    return tweets"
   ],
   "metadata": {
    "collapsed": false,
    "pycharm": {
     "name": "#%%\n"
    }
   }
  },
  {
   "cell_type": "code",
   "execution_count": 20,
   "outputs": [],
   "source": [
    "def scrape_results(url):\n",
    "    all_tweets = []\n",
    "\n",
    "    driver.get(url)\n",
    "    time.sleep(10)\n",
    "    all_tweets = all_tweets + get_tweets()\n",
    "\n",
    "    last_height = driver.execute_script(\"return document.body.scrollHeight\")\n",
    "\n",
    "    while True:\n",
    "        driver.execute_script(\"window.scrollTo(0, document.body.scrollHeight);\")\n",
    "        time.sleep(5)\n",
    "        all_tweets = all_tweets + get_tweets()\n",
    "\n",
    "        new_height = driver.execute_script(\"return document.body.scrollHeight\")\n",
    "        if new_height == last_height:\n",
    "            break\n",
    "        last_height = new_height\n",
    "\n",
    "    return all_tweets"
   ],
   "metadata": {
    "collapsed": false,
    "pycharm": {
     "name": "#%%\n"
    }
   }
  },
  {
   "cell_type": "markdown",
   "source": [
    "## Unemployment Tweets"
   ],
   "metadata": {
    "collapsed": false
   }
  },
  {
   "cell_type": "code",
   "execution_count": 21,
   "outputs": [
    {
     "data": {
      "text/plain": "['#Unemployment below 700,000, lowest since April 2020 \\n\\nhttps://themalaysianreserve.com/2022/01/10/unemployment-below-700000-lowest-since-april-2020/…\\n#Malaysia #TMRNews #TMRPhoto',\n 'Throwback to this opinion piece I wrote on June 13 last year about the worry among young adults over job security and career prospects amid the pandemic.\\n\\n#Malaysia #unemployment\\nhttps://thestar.com.my/metro/views/2020/06/13/youths-anxious-about-the-future…',\n 'Malaysia Witnesses Influx Of Indonesian Migrants #migrants #indonesia #m... https://youtu.be/83Ps-DVbJQ0 via @YouTube #migrants #indonesia #malaysia #unemployment #asia #sea #laborers #wages',\n 'Unemployment levels over 30 years in Malaysia has been below 5% consistently #malaysianeconomy #malaysia #MCO #unemployment',\n 'Happy to see unemployment levels dipping in Malaysia since MCO has been lifted. #malaysia #economy #bursa #klci #jobs #unemployment',\n 'Facebook livestreaming: @myWISDOMF @Madiustangau\\nThank you and see you there! \\n#WISDOM #WISDOMWebinar #youth #unemployment #Malaysia #work #webinar #policytalk #economy #labourforce #workers #economypolicy #education #reformation',\n 'Participants needed for online survey!\\n\\nTopic: \"University Graduate Unemployment in Malaysia\" https://surveycircle.com/en/surveys/?sr=r2#89ac0eb64c28… via @SurveyCircle\\n#malaysia #graduate #unemployment #university #GraduateUnemployment #survey #surveycircle',\n 'Look out for those who are in need! Share with them this thread full of opportunities and ideas! And probably, affiliate marketing can be their way to go as well. \\n#mco #malaysia #unemployment #income #affiliatemarketing #sideincome #commissions #jobopportunity',\n 'Instant noodles for VIPs without salaries. #noodles #jobless #unemployment #nobiz #malaysia #luncheonmeat #lockdown2021',\n '#Malaysia unemployment rate.\\n\\nJanuary, 2018: 3.4%\\n\\nJanuary, 2019: 3.3%\\n\\nJanuary, 2020: 3.2%\\n\\nNow: 4.6%\\n#Unemployment',\n 'Chinese Fighter Jets attempts Malaysia Incursion. #NEWS #TODAY #CHINA #M... https://youtu.be/9celg4eYV6M via @YouTube #BreakingNews #NewsAlert #news #NEWSUPDATE #NewsZERO #China #Malaysia #Odisha #LGBT #Russia #CBSENews #DoomAtYourService #H10N3 #ThirdWave #unemployment #Vh1Playlist',\n 'More Malaysians fear unemployment than getting Covid-19 \\n\\nRead more: https://themalaysianreserve.com/2021/05/10/more-malaysians-fear-unemployment-than-getting-covid-19/…\\n#Malaysia #COVID19 #unemployment #TMRNews #TMRPhoto',\n 'We would like to thank our panellists for taking the time to participate in this policy talk session and to share their great insight on this topic. \\n#unemployment #graduates #unemployedgraduates #education #Malaysia',\n 'Compared to the previous quarter, the fourth quarter 2020 showed that the number of the unemployed rate increased 0.1 percentage point from 4.7%. \\n\\n#news #unemployment #economy #Malaysia\\nhttp://shoshantrading.com/?p=2415',\n 'Compared to the previous quarter, the fourth quarter 2020 showed that the number of the unemployed rate increased 0.1 percentage point from 4.7%. \\n\\n#news #unemployment #economy #Malaysia\\nhttp://shoshantrading.com/?p=2415',\n 'Labor force survey conducted by the government showed that the unemployment rate for 2020 rise to a record level of 4.5% due to the ongoing Covid-19 pandemic.\\n\\n#news #unemployment #economy #Malaysia\\nhttp://shoshantrading.com/?p=2415',\n 'Compared to the previous quarter, the fourth quarter 2020 showed that the number of the unemployed rate increased 0.1 percentage point from 4.7%. \\n\\n#news #unemployment #economy #Malaysia\\nhttp://shoshantrading.com/?p=2415',\n 'Labor force survey conducted by the government showed that the unemployment rate for 2020 rise to a record level of 4.5% due to the ongoing Covid-19 pandemic.\\n\\n#news #unemployment #economy #Malaysia\\nhttps://shoshantrading.com/?p=2415',\n 'Labor force survey conducted by the government showed that the unemployment rate for 2020 rise to a record level of 4.5% due to the ongoing Covid-19 pandemic.\\n\\n#news #unemployment #economy #Malaysia\\nhttps://shoshantrading.com/?p=2415',\n 'While alarming, it is probably understated as foreigners are not included in it, and as we know, about 1/2 of the registered foreign workers have gone; registered ones are rumoured to be 1/3 of what is there.\\n#unemployment #Malaysia #BNM #Fed #Malaysia',\n 'Unemployment rate highest since ‘93 \\n\\n#Malaysia #Unemployment #TMRNews #TMRPhoto',\n '#Malaysia – #Unemployment rate rises in December as pandemic continues to hit #labourmarket https://shar.es/aoZKWV',\n \"#NSTnation Malaysia's unemployment rate increased to 4.5 per cent in 2020, the highest since 1993 when the unemployment rate stood at 4.1 per cent, the Department of Statistics Malaysia (DoSM) said.\\n\\n#Covid19 #Unemployment #Malaysia #Increase #Jobless\",\n \"Malaysia's unemployment rate reached 27-year high https://themalaysianreserve.com/2021/02/08/malaysias-unemployment-rate-reached-27-year-high/…\\n#Malaysia #Labour #unemployment #TMRNews #TMRPhoto\",\n '#Unicef: #Unemployment doubled among urban poor since September in #Malaysia, rising to 15% in December 2020 from 7% in September 2020',\n '#Malaysia #Unemployment Rate at 4.8%  https://tradingeconomics.com/malaysia/unemployment-rate…',\n 'Nearly half of the study’s participants also reported further income reduction by the same month, with female-headed households and households headed by persons with disabilities (PWD) the hardest hit.\\n\\n: Firdaus Latif\\n#covid19 #urbanpoor #mco #unemployment #malaysia',\n 'Malaysia’s Unending Political Crisis\\n\\nhttps://u.fooo.ooo/post-80596/2020-12-18/Malaysias-Unending-Political-Crisis…\\n#Pandemic #China #RaceAndEthnicityInTheUnitedStatesCensus #Singapore #Unemployment #Recession #Spectrum #University #Cross #Minister #Malaysia #Tank #PrimeMinister #Vaccination #Indonesia',\n 'How #Malaysia responds to #Covid_19 #unemployment',\n 'Unemployment increases to 748,200 person in October\\n\\n#unemployment #Malaysia #TMRNews #TMRPhoto',\n '#Malaysia #Unemployment Rate at 4.7%  https://tradingeconomics.com/malaysia/unemployment-rate…',\n 'A total of 99,696 workers were laid off between January and Nov 27 this year due to the spread of Covid-19, said Deputy Human Resources Minister Awang Hashim.\\n\\nRead more at http://malaymail.com\\n(: Hari Anggara)\\n#covid19malaysia #unemployment #hrministry #malaysians #malaysia',\n '#Malaysia – #Unemployment rate edges up 1.3%, labour market to face more challenges amid #pandemic https://shar.es/aomtNS',\n '#Malaysia #Unemployment Rate at 4.6%  https://tradingeconomics.com/malaysia/unemployment-rate…',\n 'Dr Carmelo Ferlito (@CenterforMarke1 CEO) invites the government to rediscover the spirit of the past that attracted so many FDIs. https://freemalaysiatoday.com/category/nation/2020/11/06/ease-rules-be-more-business-friendly-to-attract-fdis-say-economists/….\\n\\n#Malaysia #FDI #MNCs #unemployment',\n 'Commentary: Malaysia’s youth face some of the bleakest economic prospects https://channelnewsasia.com/news/commentary/malaysia-economy-youth-bleak-prospects-unemployment-jobs-12940548#.X5sPvyRsr5g.twitter… #throwback #economy #Malaysia #youth\\n#unemployment',\n 'Socso CEO Mohammed Azman Aziz based this prediction on the current trajectory of job losses that has seen almost 10,000 people lose their jobs every month in 2020.⠀\\n\\nRead more at http://malaymail.com⠀\\n(: Firdaus Latif)⠀\\n#covid19malaysia #socso #unemployment #malaysia',\n 'Commentary: Malaysia succeeded in suppressing COVID-19 but here comes the harder part https://channelnewsasia.com/news/commentary/malaysia-covid-19-coronavirus-jobs-mco-movement-control-lift-12748692#.X5nTZsyr7ag.twitter… #throwback #COVID19 #Malaysia #jobs #unemployment',\n 'To be considered living in #poverty in #Malaysia, the household income must be RM2,208 (US$526) or less a month. #Unemployment #Urban #Poor #Pandemic',\n '#Malaysia – #Unemployment rate rises to 4.9% but sees signs of recovery https://shar.es/ab6Kml',\n '#Malaysia #Unemployment Rate at 4.9%  https://tradingeconomics.com/malaysia/unemployment-rate…',\n 'Listen: @WSJ Minute Briefing - Former #Malaysia leader #NajibRazak is found #guilty in#1MDB trial, and #Republicans propose slashing the $600 weekly #enhanced #unemployment benefit to $200 through #September https://on.wsj.com/30W9dPk via @WSJPodcasts',\n 'My article published on The Malaysian Insight on unemployment and economy recovery. \\n\\nhttps://themalaysianinsight.com/s/261837\\n#unemployment #malaysia #COVID19Malaysia',\n 'The #unemployment rate in #Malaysia increased to 5.3% in May, amid public health measures to contain the #COVID19 crisis. It was the highest jobless rate since the series began in March 1998',\n 'Malaysia’s jobless shot up to 826,100 in #MCO-era in May, most #unemployment in 2020 yet & all the #Malaysia Morning #news you need to know on one page for July 15, 2020 \\n\\nvia @AecNewsToday \\n\\n#Independent #Asean #journalism based in #Cambodia',\n '#Malaysia’s #unemployment rate creeps up to 5.3% in May. 826,000 workers out of jobs.  But what of the 5-7 million foreign workers? \\n#economics #finance #money #business #banking #markets #investments #currencies #Fed #ECB #PBoC #BNM #Bundesbank https://dosm.gov.my/v1/index.php?r=column/cthemeByCat&cat=124&bul_id=L2NnM0h0bFc2SGFaRGZEeGxETCtuZz09&menu_id=U3VPMldoYUxzVzFaYmNkWXZteGduZz09…',\n 'Despite the record #unemployment rate, there are signs of economic recover for #Malaysia as the spike in jobless numbers has dropped.',\n '#Malaysia #Unemployment Rate at 5.3%  https://tradingeconomics.com/malaysia/unemployment-rate…',\n 'Port Dickson & Semporna asked very valid question.\\n\\n-- Accountability & due process on #prihatin & #penjana ,\\n\\nJobs: #unemployment by sectors & ability to secure job (after #lockdown).\\n\\n#malaysia',\n 'The courses will be taught by world-leading universities and industry educators which cover critical digital skills.\\n#malaysia #mdec #elearning #courses #unemployment',\n '#Malaysia : #Unemployment rate at highest over the past decade as a result of #coronavirus. It’s at 3.9% now and may move up to about 5.5% by year end, according to the country chief statistician.',\n \"Dear #Malaysia unemployed crew thanks to Rona. How do y'all find applying new jobs? I'm having a hard time since a lot of job sites aren't responding. #unemployment #selfemployed #JobSearch #JobsDuringCorona #CoronavirusOutbreak #COVID19\",\n 'The unemployment rate in Malaysia today marks the highest amount over the decade\\n\\nhttps://sites.google.com/view/beritadimensi/general/english/malaysia-states-the-highest-unemployment-over-a-decade?authuser=5…\\n\\nphoto: https://thestar.com.my/news/nation/2020/05/08/statistics-dept-unemployment-rate-at-highest-level-in-a-decade…\\n#BeritaDimensi #unemployment #Malaysia',\n 'Malaysia’s #unemployment rate to reach 3.8 per cent\\n” & all the #Malaysia Morning #news you need to know on one page for May 12, 2020 via @AecNewsToday \\n\\n#Independent #Asean #journalism based in #Cambodia\\n#StayHome #isolate #prepare #WearAMask https://aecnewstoday.com/2020/malaysia-morning-news-for-may-12-2/…',\n 'Malaysia’s #unemployment rate to reach 3.8 per cent ” & all the #Malaysia Morning #news you need to know on one page for May 11, 2020 via @AecNewsToday \\n\\n#Independent #Asean #journalism based in #Cambodia\\n#StayHome #isolate #prepare #WearAMask https://aecnewstoday.com/2020/malaysia-morning-news-for-may-11-3/…',\n 'Horrendous #unemployment figure for the #US. Will #Malaysia fare any better?\\n#economics #finance #business #banking #markets #investments #currencies #Fed #ECB #BNM #PBoC #Bundesbank #financialmacroeconomics',\n '#Malaysia #Unemployment Rate at 3.9%  https://tradingeconomics.com/malaysia/unemployment-rate…',\n 'The plight of Indians, especially Tamils \\u200b\\u200bliving in Southeast Asia, can’t be written or spoken by about misery. \\n—————————————\\n#SEAcountry #Malaysia #SEA #Singapore #Unemployment #strugglingLife #Fugitives #NeverStamina #AloneLife #EveryoneAlone #Individual #Hunger #TagsZone',\n 'Horrendous #unemployment figure for the #US. Will #Malaysia fare any better?\\n#economics #finance #business #banking #markets #investments #currencies #Fed #ECB #BNM #PBoC #Bundesbank #financialmacroeconomics',\n '#Malaysia #Unemployment Rate at 3.9%  https://tradingeconomics.com/malaysia/unemployment-rate…',\n 'The plight of Indians, especially Tamils \\u200b\\u200bliving in Southeast Asia, can’t be written or spoken by about misery. \\n—————————————\\n#SEAcountry #Malaysia #SEA #Singapore #Unemployment #strugglingLife #Fugitives #NeverStamina #AloneLife #EveryoneAlone #Individual #Hunger #TagsZone',\n '#Malaysia – #Pre-Covid-19 unemployment rate steady in February, but 2020 #unemployment rate forecasted to rise https://shar.es/aHjxGU',\n '#Malaysia #Unemployment Rate at 3.3%  https://tradingeconomics.com/malaysia/unemployment-rate…']"
     },
     "execution_count": 21,
     "metadata": {},
     "output_type": "execute_result"
    }
   ],
   "source": [
    "unemployment_query = \"https://twitter.com/search?q=%23malaysia%20%23unemployment%20since%3A2020-03-18%20lang%3Aen&src=typed_query&f=live\"\n",
    "unemployment_tweets = scrape_results(unemployment_query)\n",
    "unemployment_tweets"
   ],
   "metadata": {
    "collapsed": false,
    "pycharm": {
     "name": "#%%\n"
    }
   }
  },
  {
   "cell_type": "code",
   "execution_count": 22,
   "outputs": [],
   "source": [
    "df_unemployment = pd.DataFrame({\"tweet\": unemployment_tweets})\n",
    "df_unemployment.to_csv(\"../data/unemployment_tweets.csv\", index=False)"
   ],
   "metadata": {
    "collapsed": false,
    "pycharm": {
     "name": "#%%\n"
    }
   }
  }
 ],
 "metadata": {
  "kernelspec": {
   "display_name": "Python 3",
   "language": "python",
   "name": "python3"
  },
  "language_info": {
   "codemirror_mode": {
    "name": "ipython",
    "version": 2
   },
   "file_extension": ".py",
   "mimetype": "text/x-python",
   "name": "python",
   "nbconvert_exporter": "python",
   "pygments_lexer": "ipython2",
   "version": "2.7.6"
  }
 },
 "nbformat": 4,
 "nbformat_minor": 0
}