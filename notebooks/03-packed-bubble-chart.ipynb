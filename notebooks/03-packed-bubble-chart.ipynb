{
 "cells": [
  {
   "cell_type": "markdown",
   "source": [
    "## Imports"
   ],
   "metadata": {
    "collapsed": false
   }
  },
  {
   "cell_type": "code",
   "execution_count": 99,
   "metadata": {
    "collapsed": true
   },
   "outputs": [
    {
     "name": "stderr",
     "output_type": "stream",
     "text": [
      "[nltk_data] Downloading package vader_lexicon to\n",
      "[nltk_data]     /Users/ivan/nltk_data...\n",
      "[nltk_data]   Package vader_lexicon is already up-to-date!\n"
     ]
    },
    {
     "data": {
      "text/plain": "True"
     },
     "execution_count": 99,
     "metadata": {},
     "output_type": "execute_result"
    }
   ],
   "source": [
    "import numpy as np\n",
    "import pandas as pd\n",
    "import matplotlib.pyplot as plt\n",
    "import nltk\n",
    "from nltk.sentiment.vader import SentimentIntensityAnalyzer\n",
    "\n",
    "nltk.download(\"vader_lexicon\")"
   ]
  },
  {
   "cell_type": "markdown",
   "source": [
    "## Dataset"
   ],
   "metadata": {
    "collapsed": false
   }
  },
  {
   "cell_type": "code",
   "execution_count": 100,
   "outputs": [
    {
     "data": {
      "text/plain": "                                               tweet\n0  #Unemployment below 700,000, lowest since Apri...\n1  Throwback to this opinion piece I wrote on Jun...\n2  Malaysia Witnesses Influx Of Indonesian Migran...\n3  Unemployment levels over 30 years in Malaysia ...\n4  Happy to see unemployment levels dipping in Ma...",
      "text/html": "<div>\n<style scoped>\n    .dataframe tbody tr th:only-of-type {\n        vertical-align: middle;\n    }\n\n    .dataframe tbody tr th {\n        vertical-align: top;\n    }\n\n    .dataframe thead th {\n        text-align: right;\n    }\n</style>\n<table border=\"1\" class=\"dataframe\">\n  <thead>\n    <tr style=\"text-align: right;\">\n      <th></th>\n      <th>tweet</th>\n    </tr>\n  </thead>\n  <tbody>\n    <tr>\n      <th>0</th>\n      <td>#Unemployment below 700,000, lowest since Apri...</td>\n    </tr>\n    <tr>\n      <th>1</th>\n      <td>Throwback to this opinion piece I wrote on Jun...</td>\n    </tr>\n    <tr>\n      <th>2</th>\n      <td>Malaysia Witnesses Influx Of Indonesian Migran...</td>\n    </tr>\n    <tr>\n      <th>3</th>\n      <td>Unemployment levels over 30 years in Malaysia ...</td>\n    </tr>\n    <tr>\n      <th>4</th>\n      <td>Happy to see unemployment levels dipping in Ma...</td>\n    </tr>\n  </tbody>\n</table>\n</div>"
     },
     "execution_count": 100,
     "metadata": {},
     "output_type": "execute_result"
    }
   ],
   "source": [
    "df = pd.read_csv(\"../data/unemployment_tweets.csv\")\n",
    "df.head()"
   ],
   "metadata": {
    "collapsed": false,
    "pycharm": {
     "name": "#%%\n"
    }
   }
  },
  {
   "cell_type": "code",
   "execution_count": 101,
   "outputs": [],
   "source": [
    "def analyze_text(text):\n",
    "    score = SentimentIntensityAnalyzer().polarity_scores(text)\n",
    "    return score[\"compound\"]"
   ],
   "metadata": {
    "collapsed": false,
    "pycharm": {
     "name": "#%%\n"
    }
   }
  },
  {
   "cell_type": "code",
   "execution_count": 102,
   "outputs": [
    {
     "data": {
      "text/plain": "                                               tweet  compound score\n0  #Unemployment below 700,000, lowest since Apri...         -0.3818\n1  Throwback to this opinion piece I wrote on Jun...          0.1779\n2  Malaysia Witnesses Influx Of Indonesian Migran...          0.0000\n3  Unemployment levels over 30 years in Malaysia ...         -0.4404\n4  Happy to see unemployment levels dipping in Ma...          0.2023",
      "text/html": "<div>\n<style scoped>\n    .dataframe tbody tr th:only-of-type {\n        vertical-align: middle;\n    }\n\n    .dataframe tbody tr th {\n        vertical-align: top;\n    }\n\n    .dataframe thead th {\n        text-align: right;\n    }\n</style>\n<table border=\"1\" class=\"dataframe\">\n  <thead>\n    <tr style=\"text-align: right;\">\n      <th></th>\n      <th>tweet</th>\n      <th>compound score</th>\n    </tr>\n  </thead>\n  <tbody>\n    <tr>\n      <th>0</th>\n      <td>#Unemployment below 700,000, lowest since Apri...</td>\n      <td>-0.3818</td>\n    </tr>\n    <tr>\n      <th>1</th>\n      <td>Throwback to this opinion piece I wrote on Jun...</td>\n      <td>0.1779</td>\n    </tr>\n    <tr>\n      <th>2</th>\n      <td>Malaysia Witnesses Influx Of Indonesian Migran...</td>\n      <td>0.0000</td>\n    </tr>\n    <tr>\n      <th>3</th>\n      <td>Unemployment levels over 30 years in Malaysia ...</td>\n      <td>-0.4404</td>\n    </tr>\n    <tr>\n      <th>4</th>\n      <td>Happy to see unemployment levels dipping in Ma...</td>\n      <td>0.2023</td>\n    </tr>\n  </tbody>\n</table>\n</div>"
     },
     "execution_count": 102,
     "metadata": {},
     "output_type": "execute_result"
    }
   ],
   "source": [
    "df[\"compound score\"] = df[\"tweet\"].apply(analyze_text)\n",
    "df.head()"
   ],
   "metadata": {
    "collapsed": false,
    "pycharm": {
     "name": "#%%\n"
    }
   }
  },
  {
   "cell_type": "code",
   "execution_count": 103,
   "outputs": [],
   "source": [
    "def interpret_score(score):\n",
    "    if score >= 0.05:\n",
    "        return \"Positive\"\n",
    "    elif score <= -0.05:\n",
    "        return \"Negative\"\n",
    "    else:\n",
    "        return \"Neutral\""
   ],
   "metadata": {
    "collapsed": false,
    "pycharm": {
     "name": "#%%\n"
    }
   }
  },
  {
   "cell_type": "code",
   "execution_count": 104,
   "outputs": [
    {
     "data": {
      "text/plain": "                                               tweet  compound score sentiment\n0  #Unemployment below 700,000, lowest since Apri...         -0.3818  Negative\n1  Throwback to this opinion piece I wrote on Jun...          0.1779  Positive\n2  Malaysia Witnesses Influx Of Indonesian Migran...          0.0000   Neutral\n3  Unemployment levels over 30 years in Malaysia ...         -0.4404  Negative\n4  Happy to see unemployment levels dipping in Ma...          0.2023  Positive",
      "text/html": "<div>\n<style scoped>\n    .dataframe tbody tr th:only-of-type {\n        vertical-align: middle;\n    }\n\n    .dataframe tbody tr th {\n        vertical-align: top;\n    }\n\n    .dataframe thead th {\n        text-align: right;\n    }\n</style>\n<table border=\"1\" class=\"dataframe\">\n  <thead>\n    <tr style=\"text-align: right;\">\n      <th></th>\n      <th>tweet</th>\n      <th>compound score</th>\n      <th>sentiment</th>\n    </tr>\n  </thead>\n  <tbody>\n    <tr>\n      <th>0</th>\n      <td>#Unemployment below 700,000, lowest since Apri...</td>\n      <td>-0.3818</td>\n      <td>Negative</td>\n    </tr>\n    <tr>\n      <th>1</th>\n      <td>Throwback to this opinion piece I wrote on Jun...</td>\n      <td>0.1779</td>\n      <td>Positive</td>\n    </tr>\n    <tr>\n      <th>2</th>\n      <td>Malaysia Witnesses Influx Of Indonesian Migran...</td>\n      <td>0.0000</td>\n      <td>Neutral</td>\n    </tr>\n    <tr>\n      <th>3</th>\n      <td>Unemployment levels over 30 years in Malaysia ...</td>\n      <td>-0.4404</td>\n      <td>Negative</td>\n    </tr>\n    <tr>\n      <th>4</th>\n      <td>Happy to see unemployment levels dipping in Ma...</td>\n      <td>0.2023</td>\n      <td>Positive</td>\n    </tr>\n  </tbody>\n</table>\n</div>"
     },
     "execution_count": 104,
     "metadata": {},
     "output_type": "execute_result"
    }
   ],
   "source": [
    "df[\"sentiment\"] = df[\"compound score\"].apply(interpret_score)\n",
    "df.head()"
   ],
   "metadata": {
    "collapsed": false,
    "pycharm": {
     "name": "#%%\n"
    }
   }
  },
  {
   "cell_type": "code",
   "execution_count": 105,
   "outputs": [
    {
     "data": {
      "text/plain": "Negative    39.682540\nNeutral     33.333333\nPositive    26.984127\nName: sentiment, dtype: float64"
     },
     "execution_count": 105,
     "metadata": {},
     "output_type": "execute_result"
    }
   ],
   "source": [
    "sentiments = df[\"sentiment\"].value_counts(normalize=True) * 100\n",
    "sentiments"
   ],
   "metadata": {
    "collapsed": false,
    "pycharm": {
     "name": "#%%\n"
    }
   }
  },
  {
   "cell_type": "markdown",
   "source": [
    "## Packed Bubble Chart"
   ],
   "metadata": {
    "collapsed": false
   }
  },
  {
   "cell_type": "markdown",
   "source": [
    "Reference: [matplotlib.org](https://matplotlib.org/devdocs/gallery/misc/packed_bubbles.html)"
   ],
   "metadata": {
    "collapsed": false,
    "pycharm": {
     "name": "#%% md\n"
    }
   }
  },
  {
   "cell_type": "code",
   "execution_count": 106,
   "outputs": [],
   "source": [
    "class BubbleChart:\n",
    "    def __init__(self, area, bubble_spacing=0):\n",
    "        area = np.asarray(area)\n",
    "        r = np.sqrt(area / np.pi)\n",
    "\n",
    "        self.bubble_spacing = bubble_spacing\n",
    "        self.bubbles = np.ones((len(area), 4))\n",
    "        self.bubbles[:, 2] = r\n",
    "        self.bubbles[:, 3] = area\n",
    "        self.maxstep = 2 * self.bubbles[:, 2].max() + self.bubble_spacing\n",
    "        self.step_dist = self.maxstep / 2\n",
    "\n",
    "        length = np.ceil(np.sqrt(len(self.bubbles)))\n",
    "        grid = np.arange(length) * self.maxstep\n",
    "        gx, gy = np.meshgrid(grid, grid)\n",
    "        self.bubbles[:, 0] = gx.flatten()[:len(self.bubbles)]\n",
    "        self.bubbles[:, 1] = gy.flatten()[:len(self.bubbles)]\n",
    "\n",
    "        self.com = self.center_of_mass()\n",
    "\n",
    "    def center_of_mass(self):\n",
    "        return np.average(self.bubbles[:, :2], axis=0, weights=self.bubbles[:, 3])\n",
    "\n",
    "    def center_distance(self, bubble, bubbles):\n",
    "        return np.hypot(bubble[0] - bubbles[:, 0], bubble[1] - bubbles[:, 1])\n",
    "\n",
    "    def outline_distance(self, bubble, bubbles):\n",
    "        center_distance = self.center_distance(bubble, bubbles)\n",
    "        return center_distance - bubble[2] - bubbles[:, 2] - self.bubble_spacing\n",
    "\n",
    "    def check_collisions(self, bubble, bubbles):\n",
    "        distance = self.outline_distance(bubble, bubbles)\n",
    "        return len(distance[distance < 0])\n",
    "\n",
    "    def collides_with(self, bubble, bubbles):\n",
    "        distance = self.outline_distance(bubble, bubbles)\n",
    "        idx_min = np.argmin(distance)\n",
    "        return idx_min if type(idx_min) == np.ndarray else [idx_min]\n",
    "\n",
    "    def collapse(self, n_iterations=50):\n",
    "        for _i in range(n_iterations):\n",
    "            moves = 0\n",
    "            for i in range(len(self.bubbles)):\n",
    "                rest_bub = np.delete(self.bubbles, i, 0)\n",
    "                dir_vec = self.com - self.bubbles[i, :2]\n",
    "\n",
    "                dir_vec = dir_vec / np.sqrt(dir_vec.dot(dir_vec))\n",
    "\n",
    "                new_point = self.bubbles[i, :2] + dir_vec * self.step_dist\n",
    "                new_bubble = np.append(new_point, self.bubbles[i, 2:4])\n",
    "\n",
    "                if not self.check_collisions(new_bubble, rest_bub):\n",
    "                    self.bubbles[i, :] = new_bubble\n",
    "                    self.com = self.center_of_mass()\n",
    "                    moves += 1\n",
    "                else:\n",
    "                    for colliding in self.collides_with(new_bubble, rest_bub):\n",
    "                        dir_vec = rest_bub[colliding, :2] - self.bubbles[i, :2]\n",
    "                        dir_vec = dir_vec / np.sqrt(dir_vec.dot(dir_vec))\n",
    "                        orth = np.array([dir_vec[1], -dir_vec[0]])\n",
    "                        new_point1 = (self.bubbles[i, :2] + orth * self.step_dist)\n",
    "                        new_point2 = (self.bubbles[i, :2] - orth * self.step_dist)\n",
    "                        dist1 = self.center_distance(self.com, np.array([new_point1]))\n",
    "                        dist2 = self.center_distance(self.com, np.array([new_point2]))\n",
    "                        new_point = new_point1 if dist1 < dist2 else new_point2\n",
    "                        new_bubble = np.append(new_point, self.bubbles[i, 2:4])\n",
    "                        if not self.check_collisions(new_bubble, rest_bub):\n",
    "                            self.bubbles[i, :] = new_bubble\n",
    "                            self.com = self.center_of_mass()\n",
    "\n",
    "            if moves / len(self.bubbles) < 0.1:\n",
    "                self.step_dist = self.step_dist / 2\n",
    "\n",
    "    def plot(self, ax, labels, colors):\n",
    "        for i in range(len(self.bubbles)):\n",
    "            circ = plt.Circle(self.bubbles[i, :2], self.bubbles[i, 2], color=colors[i])\n",
    "            ax.add_patch(circ)\n",
    "            ax.text(\n",
    "                *self.bubbles[i, :2],\n",
    "                labels[i],\n",
    "                horizontalalignment='center',\n",
    "                verticalalignment='center',\n",
    "                fontsize=24,\n",
    "                color=\"white\"\n",
    "            )"
   ],
   "metadata": {
    "collapsed": false,
    "pycharm": {
     "name": "#%%\n"
    }
   }
  },
  {
   "cell_type": "code",
   "execution_count": 107,
   "outputs": [
    {
     "data": {
      "text/plain": "   polarity  percentage             text    color\n0  Negative   39.682540  Negative\\n39.7%  #ff7675\n1   Neutral   33.333333   Neutral\\n33.3%  #74b9ff\n2  Positive   26.984127  Positive\\n27.0%  #55efc4",
      "text/html": "<div>\n<style scoped>\n    .dataframe tbody tr th:only-of-type {\n        vertical-align: middle;\n    }\n\n    .dataframe tbody tr th {\n        vertical-align: top;\n    }\n\n    .dataframe thead th {\n        text-align: right;\n    }\n</style>\n<table border=\"1\" class=\"dataframe\">\n  <thead>\n    <tr style=\"text-align: right;\">\n      <th></th>\n      <th>polarity</th>\n      <th>percentage</th>\n      <th>text</th>\n      <th>color</th>\n    </tr>\n  </thead>\n  <tbody>\n    <tr>\n      <th>0</th>\n      <td>Negative</td>\n      <td>39.682540</td>\n      <td>Negative\\n39.7%</td>\n      <td>#ff7675</td>\n    </tr>\n    <tr>\n      <th>1</th>\n      <td>Neutral</td>\n      <td>33.333333</td>\n      <td>Neutral\\n33.3%</td>\n      <td>#74b9ff</td>\n    </tr>\n    <tr>\n      <th>2</th>\n      <td>Positive</td>\n      <td>26.984127</td>\n      <td>Positive\\n27.0%</td>\n      <td>#55efc4</td>\n    </tr>\n  </tbody>\n</table>\n</div>"
     },
     "execution_count": 107,
     "metadata": {},
     "output_type": "execute_result"
    }
   ],
   "source": [
    "df_bubble = pd.DataFrame({\"polarity\": sentiments.index, \"percentage\": list(sentiments)})\n",
    "df_bubble[\"text\"] = df_bubble[\"polarity\"] + \"\\n\" + round(df_bubble[\"percentage\"], 1).astype(str) + \"%\"\n",
    "df_bubble[\"color\"] = pd.Series([\"#ff7675\", \"#74b9ff\", \"#55efc4\"])\n",
    "df_bubble"
   ],
   "metadata": {
    "collapsed": false,
    "pycharm": {
     "name": "#%%\n"
    }
   }
  },
  {
   "cell_type": "code",
   "execution_count": 108,
   "outputs": [
    {
     "data": {
      "text/plain": "<Figure size 864x864 with 1 Axes>",
      "image/png": "[encoded data removed]"
     },
     "metadata": {
      "needs_background": "light"
     },
     "output_type": "display_data"
    }
   ],
   "source": [
    "bubble_chart = BubbleChart(area=df_bubble[\"percentage\"],bubble_spacing=0.3)\n",
    "bubble_chart.collapse()\n",
    "\n",
    "fig, ax = plt.subplots(subplot_kw=dict(aspect=\"equal\"), figsize=(12, 12))\n",
    "bubble_chart.plot(ax, df_bubble[\"text\"], df_bubble[\"color\"])\n",
    "\n",
    "ax.axis(\"off\")\n",
    "ax.relim()\n",
    "ax.autoscale_view()\n",
    "ax.set_title('Sentiment Polarity From Twitter Regarding Unemployment In Malaysia', fontsize=24)\n",
    "\n",
    "plt.savefig(\"../visualizations/unemployment-bubble.png\")\n",
    "plt.show()"
   ],
   "metadata": {
    "collapsed": false,
    "pycharm": {
     "name": "#%%\n"
    }
   }
  }
 ],
 "metadata": {
  "kernelspec": {
   "display_name": "Python 3",
   "language": "python",
   "name": "python3"
  },
  "language_info": {
   "codemirror_mode": {
    "name": "ipython",
    "version": 2
   },
   "file_extension": ".py",
   "mimetype": "text/x-python",
   "name": "python",
   "nbconvert_exporter": "python",
   "pygments_lexer": "ipython2",
   "version": "2.7.6"
  }
 },
 "nbformat": 4,
 "nbformat_minor": 0
}